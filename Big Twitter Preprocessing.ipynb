{
 "cells": [
  {
   "cell_type": "code",
   "execution_count": 1,
   "metadata": {
    "collapsed": true,
    "scrolled": true
   },
   "outputs": [],
   "source": [
    "import csv\n",
    "import numpy as np\n",
    "import pandas as pd\n",
    "import matplotlib.pyplot as plt\n",
    "%matplotlib inline\n",
    "\n",
    "#VADER sentiment: http://comp.social.gatech.edu/papers/icwsm14.vader.hutto.pdf\n",
    "from nltk.sentiment.vader import SentimentIntensityAnalyzer\n",
    "\n",
    "from pandas.plotting import autocorrelation_plot, lag_plot"
   ]
  },
  {
   "cell_type": "markdown",
   "metadata": {},
   "source": [
    "Some lines in the csv were split into multiple lines due to carriage returns in the actual twitter text. Some lines had an incorrect number of fields due to being split into multiple lines due to carriage returns in the actual twitter text and other errors. Therefore we parse by hand instead of letting Pandas handle it. This may take some time."
   ]
  },
  {
   "cell_type": "code",
   "execution_count": null,
   "metadata": {
    "scrolled": false
   },
   "outputs": [],
   "source": [
    "#Specify column names in header (not including datetime -- that goes in index)\n",
    "header = ['id1', 'id2', 'text']\n",
    "columns = {h: [] for h in header}\n",
    "index = []\n",
    "\n",
    "with open('raw data/Twitter_big/training_set_tweets.txt', 'rb') as in_file:\n",
    "    i = 0 #Line index\n",
    "    \n",
    "    #Loop through lines in file\n",
    "    for line in in_file.readlines():\n",
    "        \n",
    "        #Count the number of tabs ('\\t') in the line\n",
    "        numtabs = line.count(b'\\t')\n",
    "        \n",
    "        #We should have 3 tabs for 4 rows\n",
    "        try: assert(numtabs == 3)\n",
    "            \n",
    "        #Do something if we have some number other than 3 tabs. We may try to fix the lines, but here we just move on\n",
    "        except AssertionError:\n",
    "            #Optionally print the lines we omit\n",
    "            #print(\"Omitted line %s. Had %s tabs instead of 3.\" %(i, numtabs), '\\n\\n', line, '\\n\\n')\n",
    "            #Move on to next item in loop\n",
    "            continue\n",
    "            \n",
    "        #Split the line on each tab to make a list of numtabs+1 entries\n",
    "        row = line.split(b'\\t')\n",
    "        \n",
    "        #Remove carriage return markers from end of line\n",
    "        row[-1] = row[-1].replace(b'\\r\\n', b'')\n",
    "        \n",
    "        #Convert datetime entry to pandas indexable datetime object. If this cannot be done (format error), skip line\n",
    "        try:\n",
    "            row[-1] = pd.to_datetime(row[-1].decode(\"utf-8\", 'ignore'))\n",
    "        except ValueError:\n",
    "            #Optionally print the lines we omit\n",
    "            #print(\"Omitted line %s. Incorrect datetime format\" %(i), '\\n\\n', row[-1], '\\n\\n')\n",
    "            continue\n",
    "        \n",
    "        #Pair row entries with column name (except for datetime)\n",
    "        for h, entry in zip(header, row[:-1]):\n",
    "            #decode raw text (bytes) as utf-8\n",
    "            columns[h].append(entry.decode(\"utf-8\", 'ignore'))\n",
    "            \n",
    "        #Datetime as index\n",
    "        index.append(row[-1])\n",
    "                  \n",
    "        i = i+1 #Update line index\n",
    "\n",
    "#Make into dataframe\n",
    "tweets = pd.DataFrame(columns, index=index)"
   ]
  },
  {
   "cell_type": "code",
   "execution_count": 92,
   "metadata": {},
   "outputs": [],
   "source": [
    "#Build sentiment dataframe using VADER. This may take some time.\n",
    "\n",
    "cols = {'neg': [], 'neu': [], 'pos': [], 'compound': []}\n",
    "sid = SentimentIntensityAnalyzer()\n",
    "for text in tweets['text']:\n",
    "    ss = sid.polarity_scores(text)\n",
    "    for k in ss:\n",
    "        cols[k].append(ss[k])\n",
    "sentiment = pd.DataFrame(cols)"
   ]
  },
  {
   "cell_type": "code",
   "execution_count": 103,
   "metadata": {},
   "outputs": [],
   "source": [
    "#Merge tweet df with sentiment df\n",
    "combined = pd.concat((tweets.reset_index(), sentiment), axis=1)\n",
    "combined.index = combined['index']\n",
    "del combined['index']"
   ]
  },
  {
   "cell_type": "code",
   "execution_count": 104,
   "metadata": {},
   "outputs": [
    {
     "data": {
      "text/html": [
       "<div>\n",
       "<style>\n",
       "    .dataframe thead tr:only-child th {\n",
       "        text-align: right;\n",
       "    }\n",
       "\n",
       "    .dataframe thead th {\n",
       "        text-align: left;\n",
       "    }\n",
       "\n",
       "    .dataframe tbody tr th {\n",
       "        vertical-align: top;\n",
       "    }\n",
       "</style>\n",
       "<table border=\"1\" class=\"dataframe\">\n",
       "  <thead>\n",
       "    <tr style=\"text-align: right;\">\n",
       "      <th></th>\n",
       "      <th>id1</th>\n",
       "      <th>id2</th>\n",
       "      <th>text</th>\n",
       "      <th>compound</th>\n",
       "      <th>neg</th>\n",
       "      <th>neu</th>\n",
       "      <th>pos</th>\n",
       "    </tr>\n",
       "    <tr>\n",
       "      <th>index</th>\n",
       "      <th></th>\n",
       "      <th></th>\n",
       "      <th></th>\n",
       "      <th></th>\n",
       "      <th></th>\n",
       "      <th></th>\n",
       "      <th></th>\n",
       "    </tr>\n",
       "  </thead>\n",
       "  <tbody>\n",
       "    <tr>\n",
       "      <th>2009-12-03 18:41:07</th>\n",
       "      <td>60730027</td>\n",
       "      <td>6320951896</td>\n",
       "      <td>@thediscovietnam coo.  thanks. just dropped yo...</td>\n",
       "      <td>0.4404</td>\n",
       "      <td>0.000</td>\n",
       "      <td>0.674</td>\n",
       "      <td>0.326</td>\n",
       "    </tr>\n",
       "    <tr>\n",
       "      <th>2009-12-03 18:31:01</th>\n",
       "      <td>60730027</td>\n",
       "      <td>6320673258</td>\n",
       "      <td>@thediscovietnam shit it ain't lettin me DM yo...</td>\n",
       "      <td>-0.5574</td>\n",
       "      <td>0.247</td>\n",
       "      <td>0.753</td>\n",
       "      <td>0.000</td>\n",
       "    </tr>\n",
       "    <tr>\n",
       "      <th>2009-12-03 18:01:51</th>\n",
       "      <td>60730027</td>\n",
       "      <td>6319871652</td>\n",
       "      <td>@thediscovietnam hey cody, quick question...ca...</td>\n",
       "      <td>0.0000</td>\n",
       "      <td>0.000</td>\n",
       "      <td>1.000</td>\n",
       "      <td>0.000</td>\n",
       "    </tr>\n",
       "    <tr>\n",
       "      <th>2009-12-03 17:00:16</th>\n",
       "      <td>60730027</td>\n",
       "      <td>6318151501</td>\n",
       "      <td>@smokinvinyl dang.  you need anything?  I got ...</td>\n",
       "      <td>0.0000</td>\n",
       "      <td>0.000</td>\n",
       "      <td>1.000</td>\n",
       "      <td>0.000</td>\n",
       "    </tr>\n",
       "    <tr>\n",
       "      <th>2009-12-03 16:52:36</th>\n",
       "      <td>60730027</td>\n",
       "      <td>6317932721</td>\n",
       "      <td>maybe i'm late in the game on this one, but th...</td>\n",
       "      <td>0.0000</td>\n",
       "      <td>0.000</td>\n",
       "      <td>1.000</td>\n",
       "      <td>0.000</td>\n",
       "    </tr>\n",
       "  </tbody>\n",
       "</table>\n",
       "</div>"
      ],
      "text/plain": [
       "                          id1         id2  \\\n",
       "index                                       \n",
       "2009-12-03 18:41:07  60730027  6320951896   \n",
       "2009-12-03 18:31:01  60730027  6320673258   \n",
       "2009-12-03 18:01:51  60730027  6319871652   \n",
       "2009-12-03 17:00:16  60730027  6318151501   \n",
       "2009-12-03 16:52:36  60730027  6317932721   \n",
       "\n",
       "                                                                  text  \\\n",
       "index                                                                    \n",
       "2009-12-03 18:41:07  @thediscovietnam coo.  thanks. just dropped yo...   \n",
       "2009-12-03 18:31:01  @thediscovietnam shit it ain't lettin me DM yo...   \n",
       "2009-12-03 18:01:51  @thediscovietnam hey cody, quick question...ca...   \n",
       "2009-12-03 17:00:16  @smokinvinyl dang.  you need anything?  I got ...   \n",
       "2009-12-03 16:52:36  maybe i'm late in the game on this one, but th...   \n",
       "\n",
       "                     compound    neg    neu    pos  \n",
       "index                                               \n",
       "2009-12-03 18:41:07    0.4404  0.000  0.674  0.326  \n",
       "2009-12-03 18:31:01   -0.5574  0.247  0.753  0.000  \n",
       "2009-12-03 18:01:51    0.0000  0.000  1.000  0.000  \n",
       "2009-12-03 17:00:16    0.0000  0.000  1.000  0.000  \n",
       "2009-12-03 16:52:36    0.0000  0.000  1.000  0.000  "
      ]
     },
     "execution_count": 104,
     "metadata": {},
     "output_type": "execute_result"
    }
   ],
   "source": [
    "combined.head()"
   ]
  },
  {
   "cell_type": "code",
   "execution_count": 105,
   "metadata": {
    "collapsed": true
   },
   "outputs": [],
   "source": [
    "combined.to_csv('raw data/Twitter_big/training_set_tweets_processed.csv')"
   ]
  }
 ],
 "metadata": {
  "kernelspec": {
   "display_name": "Python [conda root]",
   "language": "python",
   "name": "conda-root-py"
  },
  "language_info": {
   "codemirror_mode": {
    "name": "ipython",
    "version": 3
   },
   "file_extension": ".py",
   "mimetype": "text/x-python",
   "name": "python",
   "nbconvert_exporter": "python",
   "pygments_lexer": "ipython3",
   "version": "3.6.0"
  }
 },
 "nbformat": 4,
 "nbformat_minor": 2
}

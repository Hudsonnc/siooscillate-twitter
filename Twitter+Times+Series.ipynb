{
 "cells": [
  {
   "cell_type": "code",
   "execution_count": 140,
   "metadata": {
    "collapsed": true
   },
   "outputs": [],
   "source": [
    "#Upload the .txt or .csv format of the Twitter scrapes for Mozdeh\n",
    "import csv\n",
    "import numpy\n",
    "import scipy.io \n",
    "import pandas as pd\n",
    "import matplotlib.pyplot as plt\n",
    "%matplotlib inline\n",
    "\n",
    "\n",
    "dataframe_raw = pd.read_csv('raw data/TwitterSearches_Tweets_AllFiltered.txt', sep='\\t', lineterminator='\\n')\n",
    "\n",
    "dataframe_sent = pd.read_csv('raw data/sentiment.txt', sep='\\t', lineterminator='\\n')\n"
   ]
  },
  {
   "cell_type": "code",
   "execution_count": 25,
   "metadata": {},
   "outputs": [
    {
     "data": {
      "text/html": [
       "<div>\n",
       "<style>\n",
       "    .dataframe thead tr:only-child th {\n",
       "        text-align: right;\n",
       "    }\n",
       "\n",
       "    .dataframe thead th {\n",
       "        text-align: left;\n",
       "    }\n",
       "\n",
       "    .dataframe tbody tr th {\n",
       "        vertical-align: top;\n",
       "    }\n",
       "</style>\n",
       "<table border=\"1\" class=\"dataframe\">\n",
       "  <thead>\n",
       "    <tr style=\"text-align: right;\">\n",
       "      <th></th>\n",
       "      <th>Label</th>\n",
       "      <th>EntryID</th>\n",
       "      <th>Published</th>\n",
       "      <th>Tweet(Title)</th>\n",
       "      <th>Content(Blank)</th>\n",
       "      <th>Geo</th>\n",
       "      <th>Source</th>\n",
       "      <th>AuthorName</th>\n",
       "      <th>AuthorURL</th>\n",
       "      <th>Language</th>\n",
       "      <th>Retweets</th>\n",
       "      <th>Timezone</th>\n",
       "      <th>FavoriteCount</th>\n",
       "      <th>UserFollowersCount</th>\n",
       "      <th>UserStatusesCount</th>\n",
       "    </tr>\n",
       "  </thead>\n",
       "  <tbody>\n",
       "    <tr>\n",
       "      <th>0</th>\n",
       "      <td>neo%20nazi</td>\n",
       "      <td>897607181528321920</td>\n",
       "      <td>Tue Aug 15 23:53:23 +0000 2017</td>\n",
       "      <td>RT @VanJones68: Neo Nazi's themselves could no...</td>\n",
       "      <td>RT @VanJones68: Neo Nazi's themselves could no...</td>\n",
       "      <td>null</td>\n",
       "      <td>&lt;a href=\"http://twitter.com/download/iphone\" r...</td>\n",
       "      <td>Didi</td>\n",
       "      <td>rubylilyd</td>\n",
       "      <td>en</td>\n",
       "      <td>1815</td>\n",
       "      <td>null</td>\n",
       "      <td>3964</td>\n",
       "      <td>62</td>\n",
       "      <td>2871.0</td>\n",
       "    </tr>\n",
       "    <tr>\n",
       "      <th>1</th>\n",
       "      <td>neo%20nazi</td>\n",
       "      <td>897607180186247040</td>\n",
       "      <td>Tue Aug 15 23:53:23 +0000 2017</td>\n",
       "      <td>RT @TheOnion: Trump Blasts Critics Who Judge N...</td>\n",
       "      <td>RT @TheOnion: Trump Blasts Critics Who Judge N...</td>\n",
       "      <td>null</td>\n",
       "      <td>&lt;a href=\"https://mobile.twitter.com\" rel=\"nofo...</td>\n",
       "      <td>❄️JDC❄️</td>\n",
       "      <td>Jonathan_Cordy</td>\n",
       "      <td>en</td>\n",
       "      <td>1371</td>\n",
       "      <td>Eastern Time (US &amp; Canada)</td>\n",
       "      <td>13957</td>\n",
       "      <td>56</td>\n",
       "      <td>1488.0</td>\n",
       "    </tr>\n",
       "    <tr>\n",
       "      <th>2</th>\n",
       "      <td>neo%20nazi</td>\n",
       "      <td>897607168081317888</td>\n",
       "      <td>Tue Aug 15 23:53:20 +0000 2017</td>\n",
       "      <td>RT @jajgyk: After finally speaking out against...</td>\n",
       "      <td>RT @jajgyk: After finally speaking out against...</td>\n",
       "      <td>null</td>\n",
       "      <td>&lt;a href=\"http://twitter.com/download/android\" ...</td>\n",
       "      <td>Jim Smith</td>\n",
       "      <td>JimSmit95891630</td>\n",
       "      <td>en</td>\n",
       "      <td>1</td>\n",
       "      <td>null</td>\n",
       "      <td>11949</td>\n",
       "      <td>380</td>\n",
       "      <td>2373.0</td>\n",
       "    </tr>\n",
       "    <tr>\n",
       "      <th>3</th>\n",
       "      <td>neo%20nazi</td>\n",
       "      <td>897607155561451520</td>\n",
       "      <td>Tue Aug 15 23:53:17 +0000 2017</td>\n",
       "      <td>RT @SpikeReeds: There's Klan members &amp;amp; Neo...</td>\n",
       "      <td>RT @SpikeReeds: There's Klan members &amp;amp; Neo...</td>\n",
       "      <td>null</td>\n",
       "      <td>&lt;a href=\"http://twitter.com/download/iphone\" r...</td>\n",
       "      <td>a l i s h a ✨</td>\n",
       "      <td>lishabaaaby</td>\n",
       "      <td>en</td>\n",
       "      <td>7</td>\n",
       "      <td>null</td>\n",
       "      <td>7435</td>\n",
       "      <td>523</td>\n",
       "      <td>12314.0</td>\n",
       "    </tr>\n",
       "    <tr>\n",
       "      <th>4</th>\n",
       "      <td>neo%20nazi</td>\n",
       "      <td>897607140478726144</td>\n",
       "      <td>Tue Aug 15 23:53:13 +0000 2017</td>\n",
       "      <td>RT @SheriffClarke: Lib media hijacks a neo naz...</td>\n",
       "      <td>RT @SheriffClarke: Lib media hijacks a neo naz...</td>\n",
       "      <td>null</td>\n",
       "      <td>&lt;a href=\"http://twitter.com/download/android\" ...</td>\n",
       "      <td>America 1st Jinksy</td>\n",
       "      <td>JinksyLin</td>\n",
       "      <td>en</td>\n",
       "      <td>4392</td>\n",
       "      <td>null</td>\n",
       "      <td>15142</td>\n",
       "      <td>10682</td>\n",
       "      <td>9161.0</td>\n",
       "    </tr>\n",
       "  </tbody>\n",
       "</table>\n",
       "</div>"
      ],
      "text/plain": [
       "        Label             EntryID                       Published  \\\n",
       "0  neo%20nazi  897607181528321920  Tue Aug 15 23:53:23 +0000 2017   \n",
       "1  neo%20nazi  897607180186247040  Tue Aug 15 23:53:23 +0000 2017   \n",
       "2  neo%20nazi  897607168081317888  Tue Aug 15 23:53:20 +0000 2017   \n",
       "3  neo%20nazi  897607155561451520  Tue Aug 15 23:53:17 +0000 2017   \n",
       "4  neo%20nazi  897607140478726144  Tue Aug 15 23:53:13 +0000 2017   \n",
       "\n",
       "                                        Tweet(Title)  \\\n",
       "0  RT @VanJones68: Neo Nazi's themselves could no...   \n",
       "1  RT @TheOnion: Trump Blasts Critics Who Judge N...   \n",
       "2  RT @jajgyk: After finally speaking out against...   \n",
       "3  RT @SpikeReeds: There's Klan members &amp; Neo...   \n",
       "4  RT @SheriffClarke: Lib media hijacks a neo naz...   \n",
       "\n",
       "                                      Content(Blank)   Geo  \\\n",
       "0  RT @VanJones68: Neo Nazi's themselves could no...  null   \n",
       "1  RT @TheOnion: Trump Blasts Critics Who Judge N...  null   \n",
       "2  RT @jajgyk: After finally speaking out against...  null   \n",
       "3  RT @SpikeReeds: There's Klan members &amp; Neo...  null   \n",
       "4  RT @SheriffClarke: Lib media hijacks a neo naz...  null   \n",
       "\n",
       "                                              Source          AuthorName  \\\n",
       "0  <a href=\"http://twitter.com/download/iphone\" r...                Didi   \n",
       "1  <a href=\"https://mobile.twitter.com\" rel=\"nofo...             ❄️JDC❄️   \n",
       "2  <a href=\"http://twitter.com/download/android\" ...           Jim Smith   \n",
       "3  <a href=\"http://twitter.com/download/iphone\" r...       a l i s h a ✨   \n",
       "4  <a href=\"http://twitter.com/download/android\" ...  America 1st Jinksy   \n",
       "\n",
       "         AuthorURL Language Retweets                    Timezone  \\\n",
       "0        rubylilyd       en     1815                        null   \n",
       "1   Jonathan_Cordy       en     1371  Eastern Time (US & Canada)   \n",
       "2  JimSmit95891630       en        1                        null   \n",
       "3      lishabaaaby       en        7                        null   \n",
       "4        JinksyLin       en     4392                        null   \n",
       "\n",
       "   FavoriteCount  UserFollowersCount  UserStatusesCount\\r  \n",
       "0           3964                  62               2871.0  \n",
       "1          13957                  56               1488.0  \n",
       "2          11949                 380               2373.0  \n",
       "3           7435                 523              12314.0  \n",
       "4          15142               10682               9161.0  "
      ]
     },
     "execution_count": 25,
     "metadata": {},
     "output_type": "execute_result"
    }
   ],
   "source": [
    "dataframe_raw.head() #Just a short view of what we are working with"
   ]
  },
  {
   "cell_type": "code",
   "execution_count": 39,
   "metadata": {},
   "outputs": [
    {
     "data": {
      "text/plain": [
       "Index(['AuthorURL', 0], dtype='object')"
      ]
     },
     "execution_count": 39,
     "metadata": {},
     "output_type": "execute_result"
    }
   ],
   "source": [
    "numTweets = dataframe_raw.groupby('AuthorURL').size().to_frame().reset_index() #Getting number of posts by each author\n",
    "                                                                                #and resetting name from index to colummn\n",
    "numTweets.columns #What are our column names?"
   ]
  },
  {
   "cell_type": "code",
   "execution_count": 43,
   "metadata": {},
   "outputs": [
    {
     "data": {
      "text/html": [
       "<div>\n",
       "<style>\n",
       "    .dataframe thead tr:only-child th {\n",
       "        text-align: right;\n",
       "    }\n",
       "\n",
       "    .dataframe thead th {\n",
       "        text-align: left;\n",
       "    }\n",
       "\n",
       "    .dataframe tbody tr th {\n",
       "        vertical-align: top;\n",
       "    }\n",
       "</style>\n",
       "<table border=\"1\" class=\"dataframe\">\n",
       "  <thead>\n",
       "    <tr style=\"text-align: right;\">\n",
       "      <th></th>\n",
       "      <th>AuthorURL</th>\n",
       "      <th>NumTweets</th>\n",
       "    </tr>\n",
       "  </thead>\n",
       "  <tbody>\n",
       "    <tr>\n",
       "      <th>0</th>\n",
       "      <td>nazi_taheri7477</td>\n",
       "      <td>146</td>\n",
       "    </tr>\n",
       "    <tr>\n",
       "      <th>1</th>\n",
       "      <td>en</td>\n",
       "      <td>76</td>\n",
       "    </tr>\n",
       "    <tr>\n",
       "      <th>2</th>\n",
       "      <td>genlady9</td>\n",
       "      <td>65</td>\n",
       "    </tr>\n",
       "    <tr>\n",
       "      <th>3</th>\n",
       "      <td>Nazi_kw</td>\n",
       "      <td>55</td>\n",
       "    </tr>\n",
       "    <tr>\n",
       "      <th>4</th>\n",
       "      <td>MichaelOleson</td>\n",
       "      <td>49</td>\n",
       "    </tr>\n",
       "  </tbody>\n",
       "</table>\n",
       "</div>"
      ],
      "text/plain": [
       "         AuthorURL  NumTweets\n",
       "0  nazi_taheri7477        146\n",
       "1               en         76\n",
       "2         genlady9         65\n",
       "3          Nazi_kw         55\n",
       "4    MichaelOleson         49"
      ]
     },
     "execution_count": 43,
     "metadata": {},
     "output_type": "execute_result"
    }
   ],
   "source": [
    "numTweets.columns = ['AuthorURL', 'NumTweets'] #Renaming columns\n",
    "numTweets.sort_values(by='NumTweets', ascending=False, inplace=True) #Sorting authors by number of posts\n",
    "numTweets.reset_index(drop=True, inplace=True) #Resetting index to reflect sorted state\n",
    "numTweets.head()"
   ]
  },
  {
   "cell_type": "code",
   "execution_count": 143,
   "metadata": {},
   "outputs": [
    {
     "data": {
      "text/plain": [
       "'nazi_taheri7477'"
      ]
     },
     "execution_count": 143,
     "metadata": {},
     "output_type": "execute_result"
    }
   ],
   "source": [
    "top_poster = numTweets.iloc[0]['AuthorURL'] #Top poster\n",
    "top_poster"
   ]
  },
  {
   "cell_type": "code",
   "execution_count": 155,
   "metadata": {},
   "outputs": [],
   "source": [
    "dataframe_sent.columns = ['Item', 'PosEmo', 'NegEmo'] #Renaming columns because they were a little wonky"
   ]
  },
  {
   "cell_type": "code",
   "execution_count": 156,
   "metadata": {
    "scrolled": false
   },
   "outputs": [],
   "source": [
    "assert(len(dataframe_sent) == len(dataframe_raw)) #Making sure they are the same size. will throw error if not\n",
    "df_raw_plus_sent = pd.concat([dataframe_sent, dataframe_raw], axis=1) #Assumes sentiment and raw are correcctly aligned"
   ]
  },
  {
   "cell_type": "code",
   "execution_count": 157,
   "metadata": {},
   "outputs": [
    {
     "data": {
      "text/html": [
       "<div>\n",
       "<style>\n",
       "    .dataframe thead tr:only-child th {\n",
       "        text-align: right;\n",
       "    }\n",
       "\n",
       "    .dataframe thead th {\n",
       "        text-align: left;\n",
       "    }\n",
       "\n",
       "    .dataframe tbody tr th {\n",
       "        vertical-align: top;\n",
       "    }\n",
       "</style>\n",
       "<table border=\"1\" class=\"dataframe\">\n",
       "  <thead>\n",
       "    <tr style=\"text-align: right;\">\n",
       "      <th></th>\n",
       "      <th>Item</th>\n",
       "      <th>PosEmo</th>\n",
       "      <th>NegEmo</th>\n",
       "      <th>Label</th>\n",
       "      <th>EntryID</th>\n",
       "      <th>Published</th>\n",
       "      <th>Tweet(Title)</th>\n",
       "      <th>Content(Blank)</th>\n",
       "      <th>Geo</th>\n",
       "      <th>Source</th>\n",
       "      <th>AuthorName</th>\n",
       "      <th>AuthorURL</th>\n",
       "      <th>Language</th>\n",
       "      <th>Retweets</th>\n",
       "      <th>Timezone</th>\n",
       "      <th>FavoriteCount</th>\n",
       "      <th>UserFollowersCount</th>\n",
       "      <th>UserStatusesCount</th>\n",
       "    </tr>\n",
       "  </thead>\n",
       "  <tbody>\n",
       "    <tr>\n",
       "      <th>69963</th>\n",
       "      <td>69964</td>\n",
       "      <td>1</td>\n",
       "      <td>1</td>\n",
       "      <td>nazi</td>\n",
       "      <td>897687300079050752</td>\n",
       "      <td>Wed Aug 16 05:11:45 +0000 2017</td>\n",
       "      <td>RT @HalehBanoo: همسر نازنین زاغری: امیدوارم به...</td>\n",
       "      <td>RT @HalehBanoo: همسر نازنین زاغری: امیدوارم به...</td>\n",
       "      <td>null</td>\n",
       "      <td>&lt;a href=\"http://twitter.com/download/android\" ...</td>\n",
       "      <td>Nazi</td>\n",
       "      <td>nazi_taheri7477</td>\n",
       "      <td>fa</td>\n",
       "      <td>3</td>\n",
       "      <td>null</td>\n",
       "      <td>2873</td>\n",
       "      <td>1508</td>\n",
       "      <td>9990.0</td>\n",
       "    </tr>\n",
       "    <tr>\n",
       "      <th>69964</th>\n",
       "      <td>69965</td>\n",
       "      <td>1</td>\n",
       "      <td>1</td>\n",
       "      <td>nazi</td>\n",
       "      <td>897687294752239616</td>\n",
       "      <td>Wed Aug 16 05:11:43 +0000 2017</td>\n",
       "      <td>RT @Mandee_Lavan: همسر نازنین زاغری: امیدوارم ...</td>\n",
       "      <td>RT @Mandee_Lavan: همسر نازنین زاغری: امیدوارم ...</td>\n",
       "      <td>null</td>\n",
       "      <td>&lt;a href=\"http://twitter.com/download/android\" ...</td>\n",
       "      <td>Nazi</td>\n",
       "      <td>nazi_taheri7477</td>\n",
       "      <td>fa</td>\n",
       "      <td>2</td>\n",
       "      <td>null</td>\n",
       "      <td>2873</td>\n",
       "      <td>1508</td>\n",
       "      <td>9990.0</td>\n",
       "    </tr>\n",
       "    <tr>\n",
       "      <th>70037</th>\n",
       "      <td>70038</td>\n",
       "      <td>3</td>\n",
       "      <td>2</td>\n",
       "      <td>nazi</td>\n",
       "      <td>897687423618043904</td>\n",
       "      <td>Wed Aug 16 05:12:14 +0000 2017</td>\n",
       "      <td>RT @HerryRodin: Dear #HumanRights defenders, P...</td>\n",
       "      <td>RT @HerryRodin: Dear #HumanRights defenders, P...</td>\n",
       "      <td>null</td>\n",
       "      <td>&lt;a href=\"http://twitter.com/download/android\" ...</td>\n",
       "      <td>Nazi</td>\n",
       "      <td>nazi_taheri7477</td>\n",
       "      <td>en</td>\n",
       "      <td>2</td>\n",
       "      <td>null</td>\n",
       "      <td>2873</td>\n",
       "      <td>1508</td>\n",
       "      <td>9991.0</td>\n",
       "    </tr>\n",
       "    <tr>\n",
       "      <th>70370</th>\n",
       "      <td>70371</td>\n",
       "      <td>2</td>\n",
       "      <td>2</td>\n",
       "      <td>nazi</td>\n",
       "      <td>897688074083332096</td>\n",
       "      <td>Wed Aug 16 05:14:49 +0000 2017</td>\n",
       "      <td>#Twitter Storm Join us on today  in support of...</td>\n",
       "      <td>#Twitter Storm Join us on today  in support of...</td>\n",
       "      <td>null</td>\n",
       "      <td>&lt;a href=\"http://twitter.com/download/android\" ...</td>\n",
       "      <td>Nazi</td>\n",
       "      <td>nazi_taheri7477</td>\n",
       "      <td>en</td>\n",
       "      <td>0</td>\n",
       "      <td>null</td>\n",
       "      <td>2873</td>\n",
       "      <td>1508</td>\n",
       "      <td>9992.0</td>\n",
       "    </tr>\n",
       "    <tr>\n",
       "      <th>70872</th>\n",
       "      <td>70873</td>\n",
       "      <td>1</td>\n",
       "      <td>3</td>\n",
       "      <td>nazi</td>\n",
       "      <td>897689111129182208</td>\n",
       "      <td>Wed Aug 16 05:18:57 +0000 2017</td>\n",
       "      <td>RT @Mandee_Lavan: It has been over 6 months si...</td>\n",
       "      <td>RT @Mandee_Lavan: It has been over 6 months si...</td>\n",
       "      <td>null</td>\n",
       "      <td>&lt;a href=\"http://twitter.com/download/android\" ...</td>\n",
       "      <td>Nazi</td>\n",
       "      <td>nazi_taheri7477</td>\n",
       "      <td>en</td>\n",
       "      <td>6</td>\n",
       "      <td>null</td>\n",
       "      <td>2873</td>\n",
       "      <td>1509</td>\n",
       "      <td>9993.0</td>\n",
       "    </tr>\n",
       "  </tbody>\n",
       "</table>\n",
       "</div>"
      ],
      "text/plain": [
       "        Item  PosEmo  NegEmo Label             EntryID  \\\n",
       "69963  69964       1       1  nazi  897687300079050752   \n",
       "69964  69965       1       1  nazi  897687294752239616   \n",
       "70037  70038       3       2  nazi  897687423618043904   \n",
       "70370  70371       2       2  nazi  897688074083332096   \n",
       "70872  70873       1       3  nazi  897689111129182208   \n",
       "\n",
       "                            Published  \\\n",
       "69963  Wed Aug 16 05:11:45 +0000 2017   \n",
       "69964  Wed Aug 16 05:11:43 +0000 2017   \n",
       "70037  Wed Aug 16 05:12:14 +0000 2017   \n",
       "70370  Wed Aug 16 05:14:49 +0000 2017   \n",
       "70872  Wed Aug 16 05:18:57 +0000 2017   \n",
       "\n",
       "                                            Tweet(Title)  \\\n",
       "69963  RT @HalehBanoo: همسر نازنین زاغری: امیدوارم به...   \n",
       "69964  RT @Mandee_Lavan: همسر نازنین زاغری: امیدوارم ...   \n",
       "70037  RT @HerryRodin: Dear #HumanRights defenders, P...   \n",
       "70370  #Twitter Storm Join us on today  in support of...   \n",
       "70872  RT @Mandee_Lavan: It has been over 6 months si...   \n",
       "\n",
       "                                          Content(Blank)   Geo  \\\n",
       "69963  RT @HalehBanoo: همسر نازنین زاغری: امیدوارم به...  null   \n",
       "69964  RT @Mandee_Lavan: همسر نازنین زاغری: امیدوارم ...  null   \n",
       "70037  RT @HerryRodin: Dear #HumanRights defenders, P...  null   \n",
       "70370  #Twitter Storm Join us on today  in support of...  null   \n",
       "70872  RT @Mandee_Lavan: It has been over 6 months si...  null   \n",
       "\n",
       "                                                  Source AuthorName  \\\n",
       "69963  <a href=\"http://twitter.com/download/android\" ...       Nazi   \n",
       "69964  <a href=\"http://twitter.com/download/android\" ...       Nazi   \n",
       "70037  <a href=\"http://twitter.com/download/android\" ...       Nazi   \n",
       "70370  <a href=\"http://twitter.com/download/android\" ...       Nazi   \n",
       "70872  <a href=\"http://twitter.com/download/android\" ...       Nazi   \n",
       "\n",
       "             AuthorURL Language Retweets Timezone  FavoriteCount  \\\n",
       "69963  nazi_taheri7477       fa        3     null           2873   \n",
       "69964  nazi_taheri7477       fa        2     null           2873   \n",
       "70037  nazi_taheri7477       en        2     null           2873   \n",
       "70370  nazi_taheri7477       en        0     null           2873   \n",
       "70872  nazi_taheri7477       en        6     null           2873   \n",
       "\n",
       "       UserFollowersCount  UserStatusesCount\\r  \n",
       "69963                1508               9990.0  \n",
       "69964                1508               9990.0  \n",
       "70037                1508               9991.0  \n",
       "70370                1508               9992.0  \n",
       "70872                1509               9993.0  "
      ]
     },
     "execution_count": 157,
     "metadata": {},
     "output_type": "execute_result"
    }
   ],
   "source": [
    "df_top_poster = df_raw_plus_sent[df_raw_plus_sent['AuthorURL'] == top_poster] #Posts by top poster\n",
    "df_top_poster.head() "
   ]
  },
  {
   "cell_type": "code",
   "execution_count": 158,
   "metadata": {},
   "outputs": [],
   "source": [
    "df_top_poster.index = pd.to_datetime(df_top_poster['Published'])"
   ]
  },
  {
   "cell_type": "code",
   "execution_count": 175,
   "metadata": {
    "scrolled": false
   },
   "outputs": [
    {
     "data": {
      "text/plain": [
       "<matplotlib.axes._subplots.AxesSubplot at 0x7fbfb36bbda0>"
      ]
     },
     "execution_count": 175,
     "metadata": {},
     "output_type": "execute_result"
    },
    {
     "data": {
      "image/png": "[encoded data removed]",
      "text/plain": [
       "<matplotlib.figure.Figure at 0x7fbfb3a961d0>"
      ]
     },
     "metadata": {},
     "output_type": "display_data"
    },
    {
     "data": {
      "image/png": "[encoded data removed]",
      "text/plain": [
       "<matplotlib.figure.Figure at 0x7fbfb36abf28>"
      ]
     },
     "metadata": {},
     "output_type": "display_data"
    }
   ],
   "source": [
    "df_top_poster[['NegEmo', 'PosEmo']].plot()\n",
    "df_top_poster[['NegEmo', 'PosEmo']].resample('H').mean().plot() #Can resample time series to get hourly averages"
   ]
  },
  {
   "cell_type": "code",
   "execution_count": 178,
   "metadata": {},
   "outputs": [
    {
     "data": {
      "text/plain": [
       "<matplotlib.axes._subplots.AxesSubplot at 0x7fbfb36676d8>"
      ]
     },
     "execution_count": 178,
     "metadata": {},
     "output_type": "execute_result"
    },
    {
     "data": {
      "image/png": "[encoded data removed]",
      "text/plain": [
       "<matplotlib.figure.Figure at 0x7fbfb36426a0>"
      ]
     },
     "metadata": {},
     "output_type": "display_data"
    }
   ],
   "source": [
    "df_top_poster[['NegEmo', 'PosEmo']].resample('H').mean().plot.scatter('NegEmo', 'PosEmo')"
   ]
  },
  {
   "cell_type": "code",
   "execution_count": 180,
   "metadata": {},
   "outputs": [
    {
     "data": {
      "text/html": [
       "<div>\n",
       "<style>\n",
       "    .dataframe thead tr:only-child th {\n",
       "        text-align: right;\n",
       "    }\n",
       "\n",
       "    .dataframe thead th {\n",
       "        text-align: left;\n",
       "    }\n",
       "\n",
       "    .dataframe tbody tr th {\n",
       "        vertical-align: top;\n",
       "    }\n",
       "</style>\n",
       "<table border=\"1\" class=\"dataframe\">\n",
       "  <thead>\n",
       "    <tr style=\"text-align: right;\">\n",
       "      <th></th>\n",
       "      <th>NegEmo</th>\n",
       "      <th>PosEmo</th>\n",
       "    </tr>\n",
       "  </thead>\n",
       "  <tbody>\n",
       "    <tr>\n",
       "      <th>NegEmo</th>\n",
       "      <td>1.000000</td>\n",
       "      <td>0.782502</td>\n",
       "    </tr>\n",
       "    <tr>\n",
       "      <th>PosEmo</th>\n",
       "      <td>0.782502</td>\n",
       "      <td>1.000000</td>\n",
       "    </tr>\n",
       "  </tbody>\n",
       "</table>\n",
       "</div>"
      ],
      "text/plain": [
       "          NegEmo    PosEmo\n",
       "NegEmo  1.000000  0.782502\n",
       "PosEmo  0.782502  1.000000"
      ]
     },
     "execution_count": 180,
     "metadata": {},
     "output_type": "execute_result"
    }
   ],
   "source": [
    "df_top_poster[['NegEmo', 'PosEmo']].resample('H').mean().corr()"
   ]
  }
 ],
 "metadata": {
  "kernelspec": {
   "display_name": "Python [default]",
   "language": "python",
   "name": "python3"
  },
  "language_info": {
   "codemirror_mode": {
    "name": "ipython",
    "version": 3
   },
   "file_extension": ".py",
   "mimetype": "text/x-python",
   "name": "python",
   "nbconvert_exporter": "python",
   "pygments_lexer": "ipython3",
   "version": "3.6.1"
  }
 },
 "nbformat": 4,
 "nbformat_minor": 2
}
